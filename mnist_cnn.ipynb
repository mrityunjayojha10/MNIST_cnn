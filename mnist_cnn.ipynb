{
  "nbformat": 4,
  "nbformat_minor": 0,
  "metadata": {
    "colab": {
      "name": "mnist_cnn.ipynb",
      "version": "0.3.2",
      "provenance": []
    },
    "kernelspec": {
      "name": "python3",
      "display_name": "Python 3"
    }
  },
  "cells": [
    {
      "metadata": {
        "id": "_s2Q-l9XRn0y",
        "colab_type": "code",
        "colab": {}
      },
      "cell_type": "code",
      "source": [
        "import tensorflow as tf"
      ],
      "execution_count": 0,
      "outputs": []
    },
    {
      "metadata": {
        "id": "YFdNrr_TRs3S",
        "colab_type": "code",
        "colab": {}
      },
      "cell_type": "code",
      "source": [
        "from tensorflow.examples.tutorials.mnist import input_data"
      ],
      "execution_count": 0,
      "outputs": []
    },
    {
      "metadata": {
        "id": "fB1HDC_3R5AN",
        "colab_type": "code",
        "colab": {}
      },
      "cell_type": "code",
      "source": [
        "mnist = input_data.read_data_sets(\"MNIST_data/\", one_hot=True)"
      ],
      "execution_count": 0,
      "outputs": []
    },
    {
      "metadata": {
        "id": "AMGYmQP_SdnB",
        "colab_type": "code",
        "colab": {}
      },
      "cell_type": "code",
      "source": [
        "def init_weights(shape):\n",
        "  init_random_dist = tf.truncated_normal(shape, stddev=0.1)\n",
        "  return tf.Variable(init_random_dist)"
      ],
      "execution_count": 0,
      "outputs": []
    },
    {
      "metadata": {
        "id": "z8tAtfGjgk0y",
        "colab_type": "code",
        "colab": {}
      },
      "cell_type": "code",
      "source": [
        "def init_bias(shape):\n",
        "  init_bias_vals = tf.constant(0.1, shape=shape)\n",
        "  return tf.Variable(init_bias_vals)"
      ],
      "execution_count": 0,
      "outputs": []
    },
    {
      "metadata": {
        "id": "2JWddYOEg8LP",
        "colab_type": "code",
        "colab": {}
      },
      "cell_type": "code",
      "source": [
        " def conv2d(x, W):\n",
        "    \n",
        "    return tf.nn.conv2d(x, W, strides=[1,1,1,1], padding='SAME')"
      ],
      "execution_count": 0,
      "outputs": []
    },
    {
      "metadata": {
        "id": "SmXlZr5Jl9Zv",
        "colab_type": "code",
        "colab": {}
      },
      "cell_type": "code",
      "source": [
        "def max_pool_2by2(x):\n",
        "  \n",
        "  return tf.nn.max_pool(x, ksize=[1,2,2,1], strides=[1,2,2,1], padding='SAME')"
      ],
      "execution_count": 0,
      "outputs": []
    },
    {
      "metadata": {
        "id": "gqyej4yTmxKh",
        "colab_type": "code",
        "colab": {}
      },
      "cell_type": "code",
      "source": [
        "def convolutional_layer(input_x, shape):\n",
        "  W = init_weights(shape)\n",
        "  b = init_bias([shape[3]])\n",
        "  return tf.nn.relu(conv2d(input_x, W) + b)"
      ],
      "execution_count": 0,
      "outputs": []
    },
    {
      "metadata": {
        "id": "pSm8NFfloQNs",
        "colab_type": "code",
        "colab": {}
      },
      "cell_type": "code",
      "source": [
        "def normal_full_layer(input_layer, size):\n",
        "  input_size = int(input_layer.get_shape()[1])\n",
        "  W = init_weights([input_size, size])\n",
        "  b = init_bias([size])\n",
        "  return tf.matmul(input_layer, W) + b"
      ],
      "execution_count": 0,
      "outputs": []
    },
    {
      "metadata": {
        "id": "D31X35SnpLEu",
        "colab_type": "code",
        "colab": {}
      },
      "cell_type": "code",
      "source": [
        " x  = tf.placeholder(tf.float32, shape = [None, 784])"
      ],
      "execution_count": 0,
      "outputs": []
    },
    {
      "metadata": {
        "id": "D8qE5gJopmOa",
        "colab_type": "code",
        "colab": {}
      },
      "cell_type": "code",
      "source": [
        "y_true = tf.placeholder(tf.float32, shape = [None, 10])"
      ],
      "execution_count": 0,
      "outputs": []
    },
    {
      "metadata": {
        "id": "Bo795o9ipvnj",
        "colab_type": "code",
        "colab": {}
      },
      "cell_type": "code",
      "source": [
        "x_image = tf.reshape(x, [-1,28,28,1])"
      ],
      "execution_count": 0,
      "outputs": []
    },
    {
      "metadata": {
        "id": "2W2qGUQaqPyp",
        "colab_type": "code",
        "colab": {}
      },
      "cell_type": "code",
      "source": [
        "convo_1 = convolutional_layer(x_image, shape=[5,5,1,32])\n",
        "convo_1_pooling = max_pool_2by2(convo_1)"
      ],
      "execution_count": 0,
      "outputs": []
    },
    {
      "metadata": {
        "id": "lBIgF5Vnq3iE",
        "colab_type": "code",
        "colab": {}
      },
      "cell_type": "code",
      "source": [
        "convo_2 = convolutional_layer(convo_1_pooling, shape=[5,5,32,64])\n",
        "convo_2_pooling = max_pool_2by2(convo_2)"
      ],
      "execution_count": 0,
      "outputs": []
    },
    {
      "metadata": {
        "id": "eEKCkkFMuM9f",
        "colab_type": "code",
        "colab": {}
      },
      "cell_type": "code",
      "source": [
        "convo_2_flat = tf.reshape(convo_2_pooling, [-1, 7*7*64])\n",
        "full_layer_one = tf.nn.relu(normal_full_layer(convo_2_flat, 1024))"
      ],
      "execution_count": 0,
      "outputs": []
    },
    {
      "metadata": {
        "id": "sz2erqPzvIKl",
        "colab_type": "code",
        "colab": {}
      },
      "cell_type": "code",
      "source": [
        "hold_prob = tf.placeholder(tf.float32)\n",
        "full_one_dropout = tf.nn.dropout(full_layer_one, keep_prob = hold_prob)"
      ],
      "execution_count": 0,
      "outputs": []
    },
    {
      "metadata": {
        "id": "XNPJ9fogvq6o",
        "colab_type": "code",
        "colab": {}
      },
      "cell_type": "code",
      "source": [
        "y_pred  = normal_full_layer(full_one_dropout, 10)"
      ],
      "execution_count": 0,
      "outputs": []
    },
    {
      "metadata": {
        "id": "0IOWTVAAv229",
        "colab_type": "code",
        "colab": {}
      },
      "cell_type": "code",
      "source": [
        "cross_entropy = tf.reduce_mean(tf.nn.softmax_cross_entropy_with_logits(labels = y_true, logits = y_pred))"
      ],
      "execution_count": 0,
      "outputs": []
    },
    {
      "metadata": {
        "id": "c6pZjYr3y6HJ",
        "colab_type": "code",
        "colab": {}
      },
      "cell_type": "code",
      "source": [
        "optimizer = tf.train.AdamOptimizer(learning_rate = 0.001)\n",
        "train = optimizer.minimize(cross_entropy)"
      ],
      "execution_count": 0,
      "outputs": []
    },
    {
      "metadata": {
        "id": "UX0j2-MszdxQ",
        "colab_type": "code",
        "colab": {}
      },
      "cell_type": "code",
      "source": [
        "init = tf.global_variables_initializer()"
      ],
      "execution_count": 0,
      "outputs": []
    },
    {
      "metadata": {
        "id": "Ye5gQ2Nvzlqi",
        "colab_type": "code",
        "colab": {
          "base_uri": "https://localhost:8080/",
          "height": 4609
        },
        "outputId": "1f8b84e7-ca63-4bf1-ced2-735dd2d26545"
      },
      "cell_type": "code",
      "source": [
        "steps  = 5000\n",
        "\n",
        "with tf.Session() as sess:\n",
        "  sess.run(init)\n",
        "  for i in range(steps):\n",
        "    batch_x, batch_y = mnist.train.next_batch(50)\n",
        "    sess.run(train, feed_dict={x:batch_x, y_true:batch_y, hold_prob:0.5})\n",
        "    if i%100==0:\n",
        "      print(\"on step : {}\".format(i))\n",
        "      print(\"Accuarcy : \")\n",
        "      matches = tf.equal(tf.argmax(y_pred, 1), tf.argmax(y_true, 1))\n",
        "      acc = tf.reduce_mean(tf.cast(matches, tf.float32))\n",
        "      print(sess.run(acc, feed_dict={x:mnist.test.images, y_true:mnist.test.labels, hold_prob:1.0}))\n",
        "      print(\"\\n\")"
      ],
      "execution_count": 56,
      "outputs": [
        {
          "output_type": "stream",
          "text": [
            "on step : 0\n",
            "Accuarcy : \n",
            "0.13\n",
            "\n",
            "\n",
            "on step : 100\n",
            "Accuarcy : \n",
            "0.9402\n",
            "\n",
            "\n",
            "on step : 200\n",
            "Accuarcy : \n",
            "0.9596\n",
            "\n",
            "\n",
            "on step : 300\n",
            "Accuarcy : \n",
            "0.9719\n",
            "\n",
            "\n",
            "on step : 400\n",
            "Accuarcy : \n",
            "0.9775\n",
            "\n",
            "\n",
            "on step : 500\n",
            "Accuarcy : \n",
            "0.9755\n",
            "\n",
            "\n",
            "on step : 600\n",
            "Accuarcy : \n",
            "0.9782\n",
            "\n",
            "\n",
            "on step : 700\n",
            "Accuarcy : \n",
            "0.983\n",
            "\n",
            "\n",
            "on step : 800\n",
            "Accuarcy : \n",
            "0.9846\n",
            "\n",
            "\n",
            "on step : 900\n",
            "Accuarcy : \n",
            "0.9832\n",
            "\n",
            "\n",
            "on step : 1000\n",
            "Accuarcy : \n",
            "0.9843\n",
            "\n",
            "\n",
            "on step : 1100\n",
            "Accuarcy : \n",
            "0.9858\n",
            "\n",
            "\n",
            "on step : 1200\n",
            "Accuarcy : \n",
            "0.9823\n",
            "\n",
            "\n",
            "on step : 1300\n",
            "Accuarcy : \n",
            "0.9862\n",
            "\n",
            "\n",
            "on step : 1400\n",
            "Accuarcy : \n",
            "0.9874\n",
            "\n",
            "\n",
            "on step : 1500\n",
            "Accuarcy : \n",
            "0.9884\n",
            "\n",
            "\n",
            "on step : 1600\n",
            "Accuarcy : \n",
            "0.9854\n",
            "\n",
            "\n",
            "on step : 1700\n",
            "Accuarcy : \n",
            "0.9841\n",
            "\n",
            "\n",
            "on step : 1800\n",
            "Accuarcy : \n",
            "0.9875\n",
            "\n",
            "\n",
            "on step : 1900\n",
            "Accuarcy : \n",
            "0.9882\n",
            "\n",
            "\n",
            "on step : 2000\n",
            "Accuarcy : \n",
            "0.9892\n",
            "\n",
            "\n",
            "on step : 2100\n",
            "Accuarcy : \n",
            "0.9901\n",
            "\n",
            "\n",
            "on step : 2200\n",
            "Accuarcy : \n",
            "0.9881\n",
            "\n",
            "\n",
            "on step : 2300\n",
            "Accuarcy : \n",
            "0.989\n",
            "\n",
            "\n",
            "on step : 2400\n",
            "Accuarcy : \n",
            "0.9884\n",
            "\n",
            "\n",
            "on step : 2500\n",
            "Accuarcy : \n",
            "0.9896\n",
            "\n",
            "\n",
            "on step : 2600\n",
            "Accuarcy : \n",
            "0.9887\n",
            "\n",
            "\n",
            "on step : 2700\n",
            "Accuarcy : \n",
            "0.9891\n",
            "\n",
            "\n",
            "on step : 2800\n",
            "Accuarcy : \n",
            "0.9883\n",
            "\n",
            "\n",
            "on step : 2900\n",
            "Accuarcy : \n",
            "0.9892\n",
            "\n",
            "\n",
            "on step : 3000\n",
            "Accuarcy : \n",
            "0.9888\n",
            "\n",
            "\n",
            "on step : 3100\n",
            "Accuarcy : \n",
            "0.9904\n",
            "\n",
            "\n",
            "on step : 3200\n",
            "Accuarcy : \n",
            "0.9893\n",
            "\n",
            "\n",
            "on step : 3300\n",
            "Accuarcy : \n",
            "0.99\n",
            "\n",
            "\n",
            "on step : 3400\n",
            "Accuarcy : \n",
            "0.9891\n",
            "\n",
            "\n",
            "on step : 3500\n",
            "Accuarcy : \n",
            "0.9889\n",
            "\n",
            "\n",
            "on step : 3600\n",
            "Accuarcy : \n",
            "0.9912\n",
            "\n",
            "\n",
            "on step : 3700\n",
            "Accuarcy : \n",
            "0.9892\n",
            "\n",
            "\n",
            "on step : 3800\n",
            "Accuarcy : \n",
            "0.987\n",
            "\n",
            "\n",
            "on step : 3900\n",
            "Accuarcy : \n",
            "0.9898\n",
            "\n",
            "\n",
            "on step : 4000\n",
            "Accuarcy : \n",
            "0.9909\n",
            "\n",
            "\n",
            "on step : 4100\n",
            "Accuarcy : \n",
            "0.9909\n",
            "\n",
            "\n",
            "on step : 4200\n",
            "Accuarcy : \n",
            "0.9899\n",
            "\n",
            "\n",
            "on step : 4300\n",
            "Accuarcy : \n",
            "0.9869\n",
            "\n",
            "\n",
            "on step : 4400\n",
            "Accuarcy : \n",
            "0.9886\n",
            "\n",
            "\n",
            "on step : 4500\n",
            "Accuarcy : \n",
            "0.9909\n",
            "\n",
            "\n",
            "on step : 4600\n",
            "Accuarcy : \n",
            "0.9903\n",
            "\n",
            "\n",
            "on step : 4700\n",
            "Accuarcy : \n",
            "0.9912\n",
            "\n",
            "\n",
            "on step : 4800\n",
            "Accuarcy : \n",
            "0.9906\n",
            "\n",
            "\n",
            "on step : 4900\n",
            "Accuarcy : \n",
            "0.9892\n",
            "\n",
            "\n"
          ],
          "name": "stdout"
        }
      ]
    },
    {
      "metadata": {
        "id": "smjI_IJt9u6r",
        "colab_type": "code",
        "colab": {}
      },
      "cell_type": "code",
      "source": [
        ""
      ],
      "execution_count": 0,
      "outputs": []
    }
  ]
}